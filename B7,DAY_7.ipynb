{
  "nbformat": 4,
  "nbformat_minor": 0,
  "metadata": {
    "colab": {
      "name": "B7,DAY-7",
      "provenance": [],
      "collapsed_sections": [],
      "authorship_tag": "ABX9TyMMwDDVx7Ph54dnqjRGhKRT",
      "include_colab_link": true
    },
    "kernelspec": {
      "name": "python3",
      "display_name": "Python 3"
    }
  },
  "cells": [
    {
      "cell_type": "markdown",
      "metadata": {
        "id": "view-in-github",
        "colab_type": "text"
      },
      "source": [
        "<a href=\"https://colab.research.google.com/github/AheedMushraff/1/blob/master/B7%2CDAY_7.ipynb\" target=\"_parent\"><img src=\"https://colab.research.google.com/assets/colab-badge.svg\" alt=\"Open In Colab\"/></a>"
      ]
    },
    {
      "cell_type": "code",
      "metadata": {
        "id": "ATICqvFqRYC2",
        "colab_type": "code",
        "colab": {}
      },
      "source": [
        "file = open(\"b7 assignment-7.txt\",'w')\n",
        "file.write(\"i love my country\")\n",
        "file.close()"
      ],
      "execution_count": 4,
      "outputs": []
    },
    {
      "cell_type": "code",
      "metadata": {
        "id": "zNEF3rGIRcl-",
        "colab_type": "code",
        "colab": {
          "base_uri": "https://localhost:8080/",
          "height": 35
        },
        "outputId": "94bea1d6-4f3d-4d30-e4d7-1320c5161cfc"
      },
      "source": [
        "file=open(\"b7 assignment-7.txt\",'r')\n",
        "print(file.read())\n",
        "file.close()"
      ],
      "execution_count": 5,
      "outputs": [
        {
          "output_type": "stream",
          "text": [
            "i love my country\n"
          ],
          "name": "stdout"
        }
      ]
    }
  ]
}