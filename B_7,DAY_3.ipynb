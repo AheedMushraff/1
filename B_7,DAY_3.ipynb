{
  "nbformat": 4,
  "nbformat_minor": 0,
  "metadata": {
    "colab": {
      "name": "B-7,DAY-3",
      "provenance": [],
      "collapsed_sections": [],
      "authorship_tag": "ABX9TyMoKCZFnAFADNBHg/VL07Bz",
      "include_colab_link": true
    },
    "kernelspec": {
      "name": "python3",
      "display_name": "Python 3"
    }
  },
  "cells": [
    {
      "cell_type": "markdown",
      "metadata": {
        "id": "view-in-github",
        "colab_type": "text"
      },
      "source": [
        "<a href=\"https://colab.research.google.com/github/AheedMushraff/1/blob/master/B_7%2CDAY_3.ipynb\" target=\"_parent\"><img src=\"https://colab.research.google.com/assets/colab-badge.svg\" alt=\"Open In Colab\"/></a>"
      ]
    },
    {
      "cell_type": "code",
      "metadata": {
        "id": "y2WVDxSTzpK9",
        "colab_type": "code",
        "colab": {}
      },
      "source": [
        "minimum = int(input(\"enter minimum value:\"))\n",
        "maximum = int(input(\"enter maximum value:\"))\n",
        "\n",
        "for number in range (minimum, maximum +1):\n",
        "  count = 0\n",
        "  for i in range(2,(number//2 + 1)):\n",
        "    if(number % i ==0):\n",
        "      count = count + 1\n",
        "      break\n",
        "    if (count == 0 and number !=1):\n",
        "      print(\"%d\" %number,end = '   ')  "
      ],
      "execution_count": null,
      "outputs": []
    },
    {
      "cell_type": "code",
      "metadata": {
        "id": "xLU6jdU31P9F",
        "colab_type": "code",
        "colab": {
          "base_uri": "https://localhost:8080/",
          "height": 54
        },
        "outputId": "a63b4736-2a26-448f-d3eb-94abda24b65c"
      },
      "source": [
        "pilot = int(input(\"enter plane heigt at \"))\n",
        "if pilot < 1000:  \n",
        "     print(\"safe to land\")\n",
        "elif pilot <= 5000:\n",
        "     print(\"bring down to 1000\")\n",
        "elif  pilot >5000:\n",
        "     print(\"turn around\")"
      ],
      "execution_count": 43,
      "outputs": [
        {
          "output_type": "stream",
          "text": [
            "enter plane heigt at 5000\n",
            "bring down to 1000\n"
          ],
          "name": "stdout"
        }
      ]
    },
    {
      "cell_type": "code",
      "metadata": {
        "id": "Ta80RF0Z4Imn",
        "colab_type": "code",
        "colab": {}
      },
      "source": [
        ""
      ],
      "execution_count": null,
      "outputs": []
    }
  ]
}