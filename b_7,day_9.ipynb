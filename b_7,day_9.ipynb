{
  "nbformat": 4,
  "nbformat_minor": 0,
  "metadata": {
    "colab": {
      "name": "b-7,day-9",
      "provenance": [],
      "collapsed_sections": [],
      "authorship_tag": "ABX9TyP9ygtjlefkSxgrbJfR/nDf",
      "include_colab_link": true
    },
    "kernelspec": {
      "name": "python3",
      "display_name": "Python 3"
    }
  },
  "cells": [
    {
      "cell_type": "markdown",
      "metadata": {
        "id": "view-in-github",
        "colab_type": "text"
      },
      "source": [
        "<a href=\"https://colab.research.google.com/github/AheedMushraff/1/blob/master/b_7%2Cday_9.ipynb\" target=\"_parent\"><img src=\"https://colab.research.google.com/assets/colab-badge.svg\" alt=\"Open In Colab\"/></a>"
      ]
    },
    {
      "cell_type": "code",
      "metadata": {
        "id": "7UT26oViTSHC",
        "colab_type": "code",
        "colab": {
          "base_uri": "https://localhost:8080/",
          "height": 256
        },
        "outputId": "b0e17b2d-6a2b-401d-e8a6-9ae25db2934a"
      },
      "source": [
        "lower = 1\n",
        "upper = 1000\n",
        "for num in range(lower,upper+ 1):\n",
        "  order = len(str(num))\n",
        "  sum = 0\n",
        "  temp = num \n",
        "  while temp>0:\n",
        "    digit = temp%10\n",
        "    sum +=digit**order\n",
        "    temp //=10\n",
        "  if     num == sum:\n",
        "       print(sum)    "
      ],
      "execution_count": 5,
      "outputs": [
        {
          "output_type": "stream",
          "text": [
            "1\n",
            "2\n",
            "3\n",
            "4\n",
            "5\n",
            "6\n",
            "7\n",
            "8\n",
            "9\n",
            "153\n",
            "370\n",
            "371\n",
            "407\n"
          ],
          "name": "stdout"
        }
      ]
    },
    {
      "cell_type": "code",
      "metadata": {
        "id": "xTs-lkMMT9ZN",
        "colab_type": "code",
        "colab": {}
      },
      "source": [
        ""
      ],
      "execution_count": 2,
      "outputs": []
    }
  ]
}