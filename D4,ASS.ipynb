{
  "nbformat": 4,
  "nbformat_minor": 0,
  "metadata": {
    "colab": {
      "name": " D4,ASS.ipynb",
      "provenance": [],
      "collapsed_sections": [],
      "authorship_tag": "ABX9TyOMGfrV1oZ4f9uA1p9Ktc+0",
      "include_colab_link": true
    },
    "kernelspec": {
      "name": "python3",
      "display_name": "Python 3"
    }
  },
  "cells": [
    {
      "cell_type": "markdown",
      "metadata": {
        "id": "view-in-github",
        "colab_type": "text"
      },
      "source": [
        "<a href=\"https://colab.research.google.com/github/AheedMushraff/1/blob/master/D4%2CASS.ipynb\" target=\"_parent\"><img src=\"https://colab.research.google.com/assets/colab-badge.svg\" alt=\"Open In Colab\"/></a>"
      ]
    },
    {
      "cell_type": "code",
      "metadata": {
        "id": "SNV88DwAFVur",
        "colab_type": "code",
        "colab": {}
      },
      "source": [
        ""
      ],
      "execution_count": null,
      "outputs": []
    },
    {
      "cell_type": "code",
      "metadata": {
        "id": "tJx3EWPcsxaj",
        "colab_type": "code",
        "colab": {}
      },
      "source": [
        "for num in range(1042000,7002648264):\n",
        "  temp=num\n",
        "  sum=0\n",
        "  while temp>0:\n",
        "        digit=temp%10\n",
        "        sum= sum+digit**3\n",
        "        temp= temp//10\n",
        "        if sum== num:\n",
        "             print(num)"
      ],
      "execution_count": null,
      "outputs": []
    }
  ]
}